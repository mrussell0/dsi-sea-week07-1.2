{
 "cells": [
  {
   "cell_type": "markdown",
   "metadata": {},
   "source": [
    "**Section I: Import the Data**"
   ]
  },
  {
   "cell_type": "markdown",
   "metadata": {},
   "source": [
    "Imports and Read in File"
   ]
  },
  {
   "cell_type": "code",
   "execution_count": 96,
   "metadata": {
    "collapsed": false
   },
   "outputs": [],
   "source": [
    "%matplotlib inline \n",
    "\n",
    "import pandas as pd\n",
    "import numpy as np\n",
    "from sklearn import cluster\n",
    "from sklearn import metrics\n",
    "from sklearn.metrics import pairwise_distances\n",
    "from sklearn import cluster, datasets, preprocessing, metrics\n",
    "import matplotlib.pyplot as plt\n",
    "import matplotlib\n",
    "\n",
    "import seaborn as sns\n",
    "matplotlib.style.use('ggplot') "
   ]
  },
  {
   "cell_type": "code",
   "execution_count": 84,
   "metadata": {
    "collapsed": false
   },
   "outputs": [],
   "source": [
    "adult = pd.read_csv(\"../../assets/datasets/adult.csv\")"
   ]
  },
  {
   "cell_type": "code",
   "execution_count": 85,
   "metadata": {
    "collapsed": true
   },
   "outputs": [],
   "source": [
    "adult.dropna(axis=0, how='any', inplace=True)"
   ]
  },
  {
   "cell_type": "code",
   "execution_count": 86,
   "metadata": {
    "collapsed": true
   },
   "outputs": [],
   "source": [
    "df = pd.DataFrame()"
   ]
  },
  {
   "cell_type": "markdown",
   "metadata": {},
   "source": [
    "**Section II: Format the Data**"
   ]
  },
  {
   "cell_type": "markdown",
   "metadata": {},
   "source": [
    "Convert the data to a Pandas dataframe to work with the data:"
   ]
  },
  {
   "cell_type": "code",
   "execution_count": 87,
   "metadata": {
    "collapsed": false
   },
   "outputs": [],
   "source": [
    "cleandf = pd.DataFrame(adult)"
   ]
  },
  {
   "cell_type": "markdown",
   "metadata": {},
   "source": [
    "Convert the categorical Data to numeric for our analysis. **HINT:** Refer to lesson 1.1 for writing a function of this sort"
   ]
  },
  {
   "cell_type": "code",
   "execution_count": 88,
   "metadata": {
    "collapsed": false
   },
   "outputs": [],
   "source": [
    "dummies = pd.get_dummies(cleandf)"
   ]
  },
  {
   "cell_type": "markdown",
   "metadata": {},
   "source": [
    "Apply the functions you just wrote and append the results to the dataframe"
   ]
  },
  {
   "cell_type": "code",
   "execution_count": 89,
   "metadata": {
    "collapsed": false
   },
   "outputs": [],
   "source": [
    "df = pd.concat((df, dummies), axis= 1)"
   ]
  },
  {
   "cell_type": "markdown",
   "metadata": {},
   "source": [
    "**Section III: Examine the Data**"
   ]
  },
  {
   "cell_type": "markdown",
   "metadata": {},
   "source": [
    "Plot the Data to see the distributions our our target markets; plot multiple indicators to see the relationships *IE: Education and Income*"
   ]
  },
  {
   "cell_type": "code",
   "execution_count": 52,
   "metadata": {
    "collapsed": false
   },
   "outputs": [],
   "source": [
    "cols = df.columns[:-1]\n",
    "sns.pairplot(df[cols])"
   ]
  },
  {
   "cell_type": "markdown",
   "metadata": {},
   "source": [
    "**Section IV: Prepare for Clustering**"
   ]
  },
  {
   "cell_type": "markdown",
   "metadata": {},
   "source": [
    "Create a New Dataframe with just numerical data for the analysis"
   ]
  },
  {
   "cell_type": "code",
   "execution_count": 90,
   "metadata": {
    "collapsed": false
   },
   "outputs": [],
   "source": [
    "numdf = df._get_numeric_data()"
   ]
  },
  {
   "cell_type": "markdown",
   "metadata": {},
   "source": [
    "Check for NaN and Infinite Numbers - Our data is messy!"
   ]
  },
  {
   "cell_type": "code",
   "execution_count": 91,
   "metadata": {
    "collapsed": false
   },
   "outputs": [
    {
     "name": "stdout",
     "output_type": "stream",
     "text": [
      "<class 'pandas.core.frame.DataFrame'>\n",
      "Int64Index: 30162 entries, 0 to 32560\n",
      "Columns: 106 entries, age to income_small\n",
      "dtypes: float64(100), int64(6)\n",
      "memory usage: 24.6 MB\n"
     ]
    }
   ],
   "source": [
    "numdf.info()"
   ]
  },
  {
   "cell_type": "code",
   "execution_count": 92,
   "metadata": {
    "collapsed": false
   },
   "outputs": [
    {
     "data": {
      "text/html": [
       "<div>\n",
       "<table border=\"1\" class=\"dataframe\">\n",
       "  <thead>\n",
       "    <tr style=\"text-align: right;\">\n",
       "      <th></th>\n",
       "      <th>0</th>\n",
       "    </tr>\n",
       "  </thead>\n",
       "  <tbody>\n",
       "    <tr>\n",
       "      <th>0</th>\n",
       "      <td>age</td>\n",
       "    </tr>\n",
       "    <tr>\n",
       "      <th>1</th>\n",
       "      <td>fnlwgt</td>\n",
       "    </tr>\n",
       "    <tr>\n",
       "      <th>2</th>\n",
       "      <td>education-num</td>\n",
       "    </tr>\n",
       "    <tr>\n",
       "      <th>3</th>\n",
       "      <td>capital-gain</td>\n",
       "    </tr>\n",
       "    <tr>\n",
       "      <th>4</th>\n",
       "      <td>capital-loss</td>\n",
       "    </tr>\n",
       "    <tr>\n",
       "      <th>5</th>\n",
       "      <td>hours-per-week</td>\n",
       "    </tr>\n",
       "    <tr>\n",
       "      <th>6</th>\n",
       "      <td>workclass_Federal-gov</td>\n",
       "    </tr>\n",
       "    <tr>\n",
       "      <th>7</th>\n",
       "      <td>workclass_Local-gov</td>\n",
       "    </tr>\n",
       "    <tr>\n",
       "      <th>8</th>\n",
       "      <td>workclass_Private</td>\n",
       "    </tr>\n",
       "    <tr>\n",
       "      <th>9</th>\n",
       "      <td>workclass_Self-emp-inc</td>\n",
       "    </tr>\n",
       "    <tr>\n",
       "      <th>10</th>\n",
       "      <td>workclass_Self-emp-not-inc</td>\n",
       "    </tr>\n",
       "    <tr>\n",
       "      <th>11</th>\n",
       "      <td>workclass_State-gov</td>\n",
       "    </tr>\n",
       "    <tr>\n",
       "      <th>12</th>\n",
       "      <td>workclass_Without-pay</td>\n",
       "    </tr>\n",
       "    <tr>\n",
       "      <th>13</th>\n",
       "      <td>education_10th</td>\n",
       "    </tr>\n",
       "    <tr>\n",
       "      <th>14</th>\n",
       "      <td>education_11th</td>\n",
       "    </tr>\n",
       "    <tr>\n",
       "      <th>15</th>\n",
       "      <td>education_12th</td>\n",
       "    </tr>\n",
       "    <tr>\n",
       "      <th>16</th>\n",
       "      <td>education_1st-4th</td>\n",
       "    </tr>\n",
       "    <tr>\n",
       "      <th>17</th>\n",
       "      <td>education_5th-6th</td>\n",
       "    </tr>\n",
       "    <tr>\n",
       "      <th>18</th>\n",
       "      <td>education_7th-8th</td>\n",
       "    </tr>\n",
       "    <tr>\n",
       "      <th>19</th>\n",
       "      <td>education_9th</td>\n",
       "    </tr>\n",
       "    <tr>\n",
       "      <th>20</th>\n",
       "      <td>education_Assoc-acdm</td>\n",
       "    </tr>\n",
       "    <tr>\n",
       "      <th>21</th>\n",
       "      <td>education_Assoc-voc</td>\n",
       "    </tr>\n",
       "    <tr>\n",
       "      <th>22</th>\n",
       "      <td>education_Bachelors</td>\n",
       "    </tr>\n",
       "    <tr>\n",
       "      <th>23</th>\n",
       "      <td>education_Doctorate</td>\n",
       "    </tr>\n",
       "    <tr>\n",
       "      <th>24</th>\n",
       "      <td>education_HS-grad</td>\n",
       "    </tr>\n",
       "    <tr>\n",
       "      <th>25</th>\n",
       "      <td>education_Masters</td>\n",
       "    </tr>\n",
       "    <tr>\n",
       "      <th>26</th>\n",
       "      <td>education_Preschool</td>\n",
       "    </tr>\n",
       "    <tr>\n",
       "      <th>27</th>\n",
       "      <td>education_Prof-school</td>\n",
       "    </tr>\n",
       "    <tr>\n",
       "      <th>28</th>\n",
       "      <td>education_Some-college</td>\n",
       "    </tr>\n",
       "    <tr>\n",
       "      <th>29</th>\n",
       "      <td>marital-status_Divorced</td>\n",
       "    </tr>\n",
       "    <tr>\n",
       "      <th>...</th>\n",
       "      <td>...</td>\n",
       "    </tr>\n",
       "    <tr>\n",
       "      <th>76</th>\n",
       "      <td>native-country_Haiti</td>\n",
       "    </tr>\n",
       "    <tr>\n",
       "      <th>77</th>\n",
       "      <td>native-country_Holand-Netherlands</td>\n",
       "    </tr>\n",
       "    <tr>\n",
       "      <th>78</th>\n",
       "      <td>native-country_Honduras</td>\n",
       "    </tr>\n",
       "    <tr>\n",
       "      <th>79</th>\n",
       "      <td>native-country_Hong</td>\n",
       "    </tr>\n",
       "    <tr>\n",
       "      <th>80</th>\n",
       "      <td>native-country_Hungary</td>\n",
       "    </tr>\n",
       "    <tr>\n",
       "      <th>81</th>\n",
       "      <td>native-country_India</td>\n",
       "    </tr>\n",
       "    <tr>\n",
       "      <th>82</th>\n",
       "      <td>native-country_Iran</td>\n",
       "    </tr>\n",
       "    <tr>\n",
       "      <th>83</th>\n",
       "      <td>native-country_Ireland</td>\n",
       "    </tr>\n",
       "    <tr>\n",
       "      <th>84</th>\n",
       "      <td>native-country_Italy</td>\n",
       "    </tr>\n",
       "    <tr>\n",
       "      <th>85</th>\n",
       "      <td>native-country_Jamaica</td>\n",
       "    </tr>\n",
       "    <tr>\n",
       "      <th>86</th>\n",
       "      <td>native-country_Japan</td>\n",
       "    </tr>\n",
       "    <tr>\n",
       "      <th>87</th>\n",
       "      <td>native-country_Laos</td>\n",
       "    </tr>\n",
       "    <tr>\n",
       "      <th>88</th>\n",
       "      <td>native-country_Mexico</td>\n",
       "    </tr>\n",
       "    <tr>\n",
       "      <th>89</th>\n",
       "      <td>native-country_Nicaragua</td>\n",
       "    </tr>\n",
       "    <tr>\n",
       "      <th>90</th>\n",
       "      <td>native-country_Outlying-US(Guam-USVI-etc)</td>\n",
       "    </tr>\n",
       "    <tr>\n",
       "      <th>91</th>\n",
       "      <td>native-country_Peru</td>\n",
       "    </tr>\n",
       "    <tr>\n",
       "      <th>92</th>\n",
       "      <td>native-country_Philippines</td>\n",
       "    </tr>\n",
       "    <tr>\n",
       "      <th>93</th>\n",
       "      <td>native-country_Poland</td>\n",
       "    </tr>\n",
       "    <tr>\n",
       "      <th>94</th>\n",
       "      <td>native-country_Portugal</td>\n",
       "    </tr>\n",
       "    <tr>\n",
       "      <th>95</th>\n",
       "      <td>native-country_Puerto-Rico</td>\n",
       "    </tr>\n",
       "    <tr>\n",
       "      <th>96</th>\n",
       "      <td>native-country_Scotland</td>\n",
       "    </tr>\n",
       "    <tr>\n",
       "      <th>97</th>\n",
       "      <td>native-country_South</td>\n",
       "    </tr>\n",
       "    <tr>\n",
       "      <th>98</th>\n",
       "      <td>native-country_Taiwan</td>\n",
       "    </tr>\n",
       "    <tr>\n",
       "      <th>99</th>\n",
       "      <td>native-country_Thailand</td>\n",
       "    </tr>\n",
       "    <tr>\n",
       "      <th>100</th>\n",
       "      <td>native-country_Trinadad&amp;Tobago</td>\n",
       "    </tr>\n",
       "    <tr>\n",
       "      <th>101</th>\n",
       "      <td>native-country_United-States</td>\n",
       "    </tr>\n",
       "    <tr>\n",
       "      <th>102</th>\n",
       "      <td>native-country_Vietnam</td>\n",
       "    </tr>\n",
       "    <tr>\n",
       "      <th>103</th>\n",
       "      <td>native-country_Yugoslavia</td>\n",
       "    </tr>\n",
       "    <tr>\n",
       "      <th>104</th>\n",
       "      <td>income_large</td>\n",
       "    </tr>\n",
       "    <tr>\n",
       "      <th>105</th>\n",
       "      <td>income_small</td>\n",
       "    </tr>\n",
       "  </tbody>\n",
       "</table>\n",
       "<p>106 rows × 1 columns</p>\n",
       "</div>"
      ],
      "text/plain": [
       "                                             0\n",
       "0                                          age\n",
       "1                                       fnlwgt\n",
       "2                                education-num\n",
       "3                                 capital-gain\n",
       "4                                 capital-loss\n",
       "5                               hours-per-week\n",
       "6                        workclass_Federal-gov\n",
       "7                          workclass_Local-gov\n",
       "8                            workclass_Private\n",
       "9                       workclass_Self-emp-inc\n",
       "10                  workclass_Self-emp-not-inc\n",
       "11                         workclass_State-gov\n",
       "12                       workclass_Without-pay\n",
       "13                              education_10th\n",
       "14                              education_11th\n",
       "15                              education_12th\n",
       "16                           education_1st-4th\n",
       "17                           education_5th-6th\n",
       "18                           education_7th-8th\n",
       "19                               education_9th\n",
       "20                        education_Assoc-acdm\n",
       "21                         education_Assoc-voc\n",
       "22                         education_Bachelors\n",
       "23                         education_Doctorate\n",
       "24                           education_HS-grad\n",
       "25                           education_Masters\n",
       "26                         education_Preschool\n",
       "27                       education_Prof-school\n",
       "28                      education_Some-college\n",
       "29                     marital-status_Divorced\n",
       "..                                         ...\n",
       "76                        native-country_Haiti\n",
       "77           native-country_Holand-Netherlands\n",
       "78                     native-country_Honduras\n",
       "79                         native-country_Hong\n",
       "80                      native-country_Hungary\n",
       "81                        native-country_India\n",
       "82                         native-country_Iran\n",
       "83                      native-country_Ireland\n",
       "84                        native-country_Italy\n",
       "85                      native-country_Jamaica\n",
       "86                        native-country_Japan\n",
       "87                         native-country_Laos\n",
       "88                       native-country_Mexico\n",
       "89                    native-country_Nicaragua\n",
       "90   native-country_Outlying-US(Guam-USVI-etc)\n",
       "91                         native-country_Peru\n",
       "92                  native-country_Philippines\n",
       "93                       native-country_Poland\n",
       "94                     native-country_Portugal\n",
       "95                  native-country_Puerto-Rico\n",
       "96                     native-country_Scotland\n",
       "97                        native-country_South\n",
       "98                       native-country_Taiwan\n",
       "99                     native-country_Thailand\n",
       "100             native-country_Trinadad&Tobago\n",
       "101               native-country_United-States\n",
       "102                     native-country_Vietnam\n",
       "103                  native-country_Yugoslavia\n",
       "104                               income_large\n",
       "105                               income_small\n",
       "\n",
       "[106 rows x 1 columns]"
      ]
     },
     "execution_count": 92,
     "metadata": {},
     "output_type": "execute_result"
    }
   ],
   "source": [
    "pd.DataFrame(df.columns.values)"
   ]
  },
  {
   "cell_type": "code",
   "execution_count": null,
   "metadata": {
    "collapsed": true
   },
   "outputs": [],
   "source": [
    "Convert to the Pandas Array to a Numpy Matrix - Your function will only take numerical inputs"
   ]
  },
  {
   "cell_type": "markdown",
   "metadata": {},
   "source": [
    "**Section V: Clustering Analysis**"
   ]
  },
  {
   "cell_type": "markdown",
   "metadata": {
    "collapsed": true
   },
   "source": [
    "Cluster the Data to our our target groups. **BONUS**: Perform multiple clustering tests on various indicator variables"
   ]
  },
  {
   "cell_type": "code",
   "execution_count": 97,
   "metadata": {
    "collapsed": false
   },
   "outputs": [],
   "source": [
    "X_scaled = preprocessing.MinMaxScaler().fit_transform(numdf)"
   ]
  },
  {
   "cell_type": "code",
   "execution_count": 98,
   "metadata": {
    "collapsed": false
   },
   "outputs": [
    {
     "data": {
      "text/html": [
       "<div>\n",
       "<table border=\"1\" class=\"dataframe\">\n",
       "  <thead>\n",
       "    <tr style=\"text-align: right;\">\n",
       "      <th></th>\n",
       "      <th>age</th>\n",
       "      <th>fnlwgt</th>\n",
       "      <th>education-num</th>\n",
       "      <th>capital-gain</th>\n",
       "      <th>capital-loss</th>\n",
       "      <th>hours-per-week</th>\n",
       "      <th>workclass_Federal-gov</th>\n",
       "      <th>workclass_Local-gov</th>\n",
       "      <th>workclass_Private</th>\n",
       "      <th>workclass_Self-emp-inc</th>\n",
       "      <th>...</th>\n",
       "      <th>native-country_Scotland</th>\n",
       "      <th>native-country_South</th>\n",
       "      <th>native-country_Taiwan</th>\n",
       "      <th>native-country_Thailand</th>\n",
       "      <th>native-country_Trinadad&amp;Tobago</th>\n",
       "      <th>native-country_United-States</th>\n",
       "      <th>native-country_Vietnam</th>\n",
       "      <th>native-country_Yugoslavia</th>\n",
       "      <th>income_large</th>\n",
       "      <th>income_small</th>\n",
       "    </tr>\n",
       "  </thead>\n",
       "  <tbody>\n",
       "    <tr>\n",
       "      <th>count</th>\n",
       "      <td>30162.000000</td>\n",
       "      <td>30162.000000</td>\n",
       "      <td>30162.000000</td>\n",
       "      <td>30162.000000</td>\n",
       "      <td>30162.000000</td>\n",
       "      <td>30162.000000</td>\n",
       "      <td>30162.000000</td>\n",
       "      <td>30162.000000</td>\n",
       "      <td>30162.000000</td>\n",
       "      <td>30162.000000</td>\n",
       "      <td>...</td>\n",
       "      <td>30162.000000</td>\n",
       "      <td>30162.000000</td>\n",
       "      <td>30162.000000</td>\n",
       "      <td>30162.000000</td>\n",
       "      <td>30162.000000</td>\n",
       "      <td>30162.000000</td>\n",
       "      <td>30162.000000</td>\n",
       "      <td>30162.000000</td>\n",
       "      <td>30162.000000</td>\n",
       "      <td>30162.000000</td>\n",
       "    </tr>\n",
       "    <tr>\n",
       "      <th>mean</th>\n",
       "      <td>0.293670</td>\n",
       "      <td>0.119669</td>\n",
       "      <td>0.608087</td>\n",
       "      <td>0.010920</td>\n",
       "      <td>0.020288</td>\n",
       "      <td>0.407462</td>\n",
       "      <td>0.031265</td>\n",
       "      <td>0.068530</td>\n",
       "      <td>0.738877</td>\n",
       "      <td>0.035608</td>\n",
       "      <td>...</td>\n",
       "      <td>0.000365</td>\n",
       "      <td>0.002354</td>\n",
       "      <td>0.001392</td>\n",
       "      <td>0.000564</td>\n",
       "      <td>0.000597</td>\n",
       "      <td>0.911876</td>\n",
       "      <td>0.002122</td>\n",
       "      <td>0.000530</td>\n",
       "      <td>0.248922</td>\n",
       "      <td>0.751078</td>\n",
       "    </tr>\n",
       "    <tr>\n",
       "      <th>std</th>\n",
       "      <td>0.179927</td>\n",
       "      <td>0.071827</td>\n",
       "      <td>0.170000</td>\n",
       "      <td>0.074064</td>\n",
       "      <td>0.092814</td>\n",
       "      <td>0.122245</td>\n",
       "      <td>0.174035</td>\n",
       "      <td>0.252657</td>\n",
       "      <td>0.439254</td>\n",
       "      <td>0.185313</td>\n",
       "      <td>...</td>\n",
       "      <td>0.019094</td>\n",
       "      <td>0.048461</td>\n",
       "      <td>0.037291</td>\n",
       "      <td>0.023734</td>\n",
       "      <td>0.024422</td>\n",
       "      <td>0.283480</td>\n",
       "      <td>0.046016</td>\n",
       "      <td>0.023026</td>\n",
       "      <td>0.432396</td>\n",
       "      <td>0.432396</td>\n",
       "    </tr>\n",
       "    <tr>\n",
       "      <th>min</th>\n",
       "      <td>0.000000</td>\n",
       "      <td>0.000000</td>\n",
       "      <td>0.000000</td>\n",
       "      <td>0.000000</td>\n",
       "      <td>0.000000</td>\n",
       "      <td>0.000000</td>\n",
       "      <td>0.000000</td>\n",
       "      <td>0.000000</td>\n",
       "      <td>0.000000</td>\n",
       "      <td>0.000000</td>\n",
       "      <td>...</td>\n",
       "      <td>0.000000</td>\n",
       "      <td>0.000000</td>\n",
       "      <td>0.000000</td>\n",
       "      <td>0.000000</td>\n",
       "      <td>0.000000</td>\n",
       "      <td>0.000000</td>\n",
       "      <td>0.000000</td>\n",
       "      <td>0.000000</td>\n",
       "      <td>0.000000</td>\n",
       "      <td>0.000000</td>\n",
       "    </tr>\n",
       "    <tr>\n",
       "      <th>25%</th>\n",
       "      <td>0.150685</td>\n",
       "      <td>0.070607</td>\n",
       "      <td>0.533333</td>\n",
       "      <td>0.000000</td>\n",
       "      <td>0.000000</td>\n",
       "      <td>0.397959</td>\n",
       "      <td>0.000000</td>\n",
       "      <td>0.000000</td>\n",
       "      <td>0.000000</td>\n",
       "      <td>0.000000</td>\n",
       "      <td>...</td>\n",
       "      <td>0.000000</td>\n",
       "      <td>0.000000</td>\n",
       "      <td>0.000000</td>\n",
       "      <td>0.000000</td>\n",
       "      <td>0.000000</td>\n",
       "      <td>1.000000</td>\n",
       "      <td>0.000000</td>\n",
       "      <td>0.000000</td>\n",
       "      <td>0.000000</td>\n",
       "      <td>1.000000</td>\n",
       "    </tr>\n",
       "    <tr>\n",
       "      <th>50%</th>\n",
       "      <td>0.273973</td>\n",
       "      <td>0.111940</td>\n",
       "      <td>0.600000</td>\n",
       "      <td>0.000000</td>\n",
       "      <td>0.000000</td>\n",
       "      <td>0.397959</td>\n",
       "      <td>0.000000</td>\n",
       "      <td>0.000000</td>\n",
       "      <td>1.000000</td>\n",
       "      <td>0.000000</td>\n",
       "      <td>...</td>\n",
       "      <td>0.000000</td>\n",
       "      <td>0.000000</td>\n",
       "      <td>0.000000</td>\n",
       "      <td>0.000000</td>\n",
       "      <td>0.000000</td>\n",
       "      <td>1.000000</td>\n",
       "      <td>0.000000</td>\n",
       "      <td>0.000000</td>\n",
       "      <td>0.000000</td>\n",
       "      <td>1.000000</td>\n",
       "    </tr>\n",
       "    <tr>\n",
       "      <th>75%</th>\n",
       "      <td>0.410959</td>\n",
       "      <td>0.152188</td>\n",
       "      <td>0.800000</td>\n",
       "      <td>0.000000</td>\n",
       "      <td>0.000000</td>\n",
       "      <td>0.448980</td>\n",
       "      <td>0.000000</td>\n",
       "      <td>0.000000</td>\n",
       "      <td>1.000000</td>\n",
       "      <td>0.000000</td>\n",
       "      <td>...</td>\n",
       "      <td>0.000000</td>\n",
       "      <td>0.000000</td>\n",
       "      <td>0.000000</td>\n",
       "      <td>0.000000</td>\n",
       "      <td>0.000000</td>\n",
       "      <td>1.000000</td>\n",
       "      <td>0.000000</td>\n",
       "      <td>0.000000</td>\n",
       "      <td>0.000000</td>\n",
       "      <td>1.000000</td>\n",
       "    </tr>\n",
       "    <tr>\n",
       "      <th>max</th>\n",
       "      <td>1.000000</td>\n",
       "      <td>1.000000</td>\n",
       "      <td>1.000000</td>\n",
       "      <td>1.000000</td>\n",
       "      <td>1.000000</td>\n",
       "      <td>1.000000</td>\n",
       "      <td>1.000000</td>\n",
       "      <td>1.000000</td>\n",
       "      <td>1.000000</td>\n",
       "      <td>1.000000</td>\n",
       "      <td>...</td>\n",
       "      <td>1.000000</td>\n",
       "      <td>1.000000</td>\n",
       "      <td>1.000000</td>\n",
       "      <td>1.000000</td>\n",
       "      <td>1.000000</td>\n",
       "      <td>1.000000</td>\n",
       "      <td>1.000000</td>\n",
       "      <td>1.000000</td>\n",
       "      <td>1.000000</td>\n",
       "      <td>1.000000</td>\n",
       "    </tr>\n",
       "  </tbody>\n",
       "</table>\n",
       "<p>8 rows × 106 columns</p>\n",
       "</div>"
      ],
      "text/plain": [
       "                age        fnlwgt  education-num  capital-gain  capital-loss  \\\n",
       "count  30162.000000  30162.000000   30162.000000  30162.000000  30162.000000   \n",
       "mean       0.293670      0.119669       0.608087      0.010920      0.020288   \n",
       "std        0.179927      0.071827       0.170000      0.074064      0.092814   \n",
       "min        0.000000      0.000000       0.000000      0.000000      0.000000   \n",
       "25%        0.150685      0.070607       0.533333      0.000000      0.000000   \n",
       "50%        0.273973      0.111940       0.600000      0.000000      0.000000   \n",
       "75%        0.410959      0.152188       0.800000      0.000000      0.000000   \n",
       "max        1.000000      1.000000       1.000000      1.000000      1.000000   \n",
       "\n",
       "       hours-per-week  workclass_Federal-gov  workclass_Local-gov  \\\n",
       "count    30162.000000           30162.000000         30162.000000   \n",
       "mean         0.407462               0.031265             0.068530   \n",
       "std          0.122245               0.174035             0.252657   \n",
       "min          0.000000               0.000000             0.000000   \n",
       "25%          0.397959               0.000000             0.000000   \n",
       "50%          0.397959               0.000000             0.000000   \n",
       "75%          0.448980               0.000000             0.000000   \n",
       "max          1.000000               1.000000             1.000000   \n",
       "\n",
       "       workclass_Private  workclass_Self-emp-inc      ...       \\\n",
       "count       30162.000000            30162.000000      ...        \n",
       "mean            0.738877                0.035608      ...        \n",
       "std             0.439254                0.185313      ...        \n",
       "min             0.000000                0.000000      ...        \n",
       "25%             0.000000                0.000000      ...        \n",
       "50%             1.000000                0.000000      ...        \n",
       "75%             1.000000                0.000000      ...        \n",
       "max             1.000000                1.000000      ...        \n",
       "\n",
       "       native-country_Scotland  native-country_South  native-country_Taiwan  \\\n",
       "count             30162.000000          30162.000000           30162.000000   \n",
       "mean                  0.000365              0.002354               0.001392   \n",
       "std                   0.019094              0.048461               0.037291   \n",
       "min                   0.000000              0.000000               0.000000   \n",
       "25%                   0.000000              0.000000               0.000000   \n",
       "50%                   0.000000              0.000000               0.000000   \n",
       "75%                   0.000000              0.000000               0.000000   \n",
       "max                   1.000000              1.000000               1.000000   \n",
       "\n",
       "       native-country_Thailand  native-country_Trinadad&Tobago  \\\n",
       "count             30162.000000                    30162.000000   \n",
       "mean                  0.000564                        0.000597   \n",
       "std                   0.023734                        0.024422   \n",
       "min                   0.000000                        0.000000   \n",
       "25%                   0.000000                        0.000000   \n",
       "50%                   0.000000                        0.000000   \n",
       "75%                   0.000000                        0.000000   \n",
       "max                   1.000000                        1.000000   \n",
       "\n",
       "       native-country_United-States  native-country_Vietnam  \\\n",
       "count                  30162.000000            30162.000000   \n",
       "mean                       0.911876                0.002122   \n",
       "std                        0.283480                0.046016   \n",
       "min                        0.000000                0.000000   \n",
       "25%                        1.000000                0.000000   \n",
       "50%                        1.000000                0.000000   \n",
       "75%                        1.000000                0.000000   \n",
       "max                        1.000000                1.000000   \n",
       "\n",
       "       native-country_Yugoslavia  income_large  income_small  \n",
       "count               30162.000000  30162.000000  30162.000000  \n",
       "mean                    0.000530      0.248922      0.751078  \n",
       "std                     0.023026      0.432396      0.432396  \n",
       "min                     0.000000      0.000000      0.000000  \n",
       "25%                     0.000000      0.000000      1.000000  \n",
       "50%                     0.000000      0.000000      1.000000  \n",
       "75%                     0.000000      0.000000      1.000000  \n",
       "max                     1.000000      1.000000      1.000000  \n",
       "\n",
       "[8 rows x 106 columns]"
      ]
     },
     "execution_count": 98,
     "metadata": {},
     "output_type": "execute_result"
    }
   ],
   "source": [
    "pd.DataFrame(X_scaled, columns=numdf.columns).describe()"
   ]
  },
  {
   "cell_type": "code",
   "execution_count": 99,
   "metadata": {
    "collapsed": false
   },
   "outputs": [
    {
     "data": {
      "text/plain": [
       "KMeans(algorithm='auto', copy_x=True, init='k-means++', max_iter=300,\n",
       "    n_clusters=2, n_init=10, n_jobs=1, precompute_distances='auto',\n",
       "    random_state=None, tol=0.0001, verbose=0)"
      ]
     },
     "execution_count": 99,
     "metadata": {},
     "output_type": "execute_result"
    }
   ],
   "source": [
    "k = 2\n",
    "kmeans = cluster.KMeans(n_clusters=k)\n",
    "kmeans.fit(X_scaled)"
   ]
  },
  {
   "cell_type": "markdown",
   "metadata": {},
   "source": [
    "Get the labels and centroids"
   ]
  },
  {
   "cell_type": "code",
   "execution_count": 101,
   "metadata": {
    "collapsed": false
   },
   "outputs": [
    {
     "name": "stdout",
     "output_type": "stream",
     "text": [
      "[[  3.57133274e-01   1.17603348e-01   6.27095327e-01   1.86266296e-02\n",
      "    2.92927748e-02   4.41357238e-01   3.42429907e-02   7.22990654e-02\n",
      "    6.71177570e-01   5.98130841e-02   1.20822430e-01   4.12710280e-02\n",
      "    3.73831776e-04   2.25046729e-02   2.24299065e-02   7.62616822e-03\n",
      "    5.00934579e-03   9.79439252e-03   2.23551402e-02   1.48037383e-02\n",
      "    3.06542056e-02   4.71028037e-02   1.89383178e-01   1.99626168e-02\n",
      "    3.19102804e-01   7.02803738e-02   9.71962617e-04   2.92336449e-02\n",
      "    1.88785047e-01   3.28971963e-03   6.72897196e-04   9.92000000e-01\n",
      "    6.72897196e-04  -3.40283357e-14   1.42056075e-03   1.94392523e-03\n",
      "    5.72710280e-02   2.24299065e-04   1.88635514e-01   1.75327103e-01\n",
      "    4.19439252e-02   3.32710280e-02   6.66915888e-02   4.02990654e-02\n",
      "    7.47663551e-05   1.50654206e-01   2.79626168e-02   1.15962617e-01\n",
      "    2.86355140e-02   7.30467290e-02   9.31813084e-01   2.09345794e-03\n",
      "    6.28037383e-03   4.03738318e-03   4.93457944e-03   5.08411215e-02\n",
      "    7.25233645e-03   3.02056075e-02   4.95700935e-02   6.05607477e-03\n",
      "    9.06915888e-01   5.16635514e-02   9.48336449e-01   7.47663551e-04\n",
      "    4.11214953e-03   3.14018692e-03   1.19626168e-03   3.28971963e-03\n",
      "    1.04672897e-03   8.97196262e-04   2.31775701e-03   2.76635514e-03\n",
      "    9.71962617e-04   4.41121495e-03   1.34579439e-03   1.04672897e-03\n",
      "    7.47663551e-04  -8.19250267e-18   7.47663551e-05   7.47663551e-04\n",
      "    3.73831776e-04   4.85981308e-03   1.86915888e-03   5.98130841e-04\n",
      "    3.28971963e-03   1.71962617e-03   2.24299065e-03   5.98130841e-04\n",
      "    2.04859813e-02   8.97196262e-04   1.49532710e-04   5.98130841e-04\n",
      "    6.50467290e-03   1.94392523e-03   1.19626168e-03   2.46728972e-03\n",
      "    2.24299065e-04   2.24299065e-03   1.86915888e-03   3.73831776e-04\n",
      "    5.23364486e-04   9.13644860e-01   1.57009346e-03   8.97196262e-04\n",
      "    4.85308411e-01   5.14691589e-01]\n",
      " [  2.43105599e-01   1.21314062e-01   5.92942952e-01   4.78009963e-03\n",
      "    1.31126271e-02   3.80455357e-01   2.88914041e-02   6.55268958e-02\n",
      "    7.92815869e-01   1.63221540e-02   5.26002264e-02   4.33073211e-02\n",
      "    5.36129148e-04   3.09167808e-02   4.45582892e-02   1.63817240e-02\n",
      "    5.00387204e-03   9.35247513e-03   1.53690356e-02   1.53094657e-02\n",
      "    3.56228034e-02   4.03288259e-02   1.49580032e-01   6.43354977e-03\n",
      "    3.31923512e-01   4.09245249e-02   1.90623697e-03   8.99505570e-03\n",
      "    2.47393817e-01   2.48406505e-01   7.14838863e-04   4.74772145e-02\n",
      "    2.15047358e-02   5.79376899e-01   5.48043129e-02   4.77154941e-02\n",
      "    1.76029070e-01   3.57419432e-04   8.97718473e-02   9.81116340e-02\n",
      "    2.54959195e-02   5.39107643e-02   6.39780783e-02   1.59230357e-01\n",
      "    8.45892655e-03   1.20509918e-01   1.60838744e-02   1.21105617e-01\n",
      "    3.15124799e-02   3.54440936e-02   1.23234756e-14   4.58569131e-01\n",
      "    4.79537738e-02   2.62822422e-01   1.87406922e-01   4.32477512e-02\n",
      "    1.12587121e-02   2.92488235e-02   1.28313576e-01   8.93548579e-03\n",
      "    8.22243403e-01   5.41550009e-01   4.58449991e-01   4.76559242e-04\n",
      "    3.09763507e-03   1.54881754e-03   2.38279621e-03   2.85935545e-03\n",
      "    3.15720498e-03   8.93548579e-04   4.11032346e-03   2.91892536e-03\n",
      "    8.33978674e-04   4.11032346e-03   6.55268958e-04   2.91892536e-03\n",
      "    1.90623697e-03   5.95699053e-05   6.55268958e-04   5.36129148e-04\n",
      "    4.76559242e-04   2.08494668e-03   1.01268839e-03   9.53118485e-04\n",
      "    1.42967773e-03   3.39548460e-03   1.72752725e-03   5.36129148e-04\n",
      "    2.00154882e-02   1.25096801e-03   7.14838863e-04   1.31053792e-03\n",
      "    6.01656043e-03   1.78709716e-03   1.07225830e-03   4.52731280e-03\n",
      "    4.76559242e-04   2.44236612e-03   1.01268839e-03   7.14838863e-04\n",
      "    6.55268958e-04   9.10466432e-01   2.56150593e-03   2.38279621e-04\n",
      "    6.05825937e-02   9.39417406e-01]]\n"
     ]
    }
   ],
   "source": [
    "labels = kmeans.labels_\n",
    "centroids = kmeans.cluster_centers_\n",
    "\n",
    "print centroids"
   ]
  },
  {
   "cell_type": "markdown",
   "metadata": {
    "collapsed": true
   },
   "source": [
    "Compute the Silhoutte Score to measure your analysis"
   ]
  },
  {
   "cell_type": "code",
   "execution_count": null,
   "metadata": {
    "collapsed": false
   },
   "outputs": [],
   "source": []
  }
 ],
 "metadata": {
  "anaconda-cloud": {},
  "kernelspec": {
   "display_name": "Python [default]",
   "language": "python",
   "name": "python2"
  }
 },
 "nbformat": 4,
 "nbformat_minor": 0
}
